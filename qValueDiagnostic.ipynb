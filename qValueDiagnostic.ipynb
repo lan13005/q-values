{
 "cells": [
  {
   "cell_type": "code",
   "execution_count": 2,
   "metadata": {},
   "outputs": [
    {
     "data": {
      "application/javascript": [
       "\n",
       "require(['notebook'],\n",
       "  function() {\n",
       "    IPython.CodeCell.config_defaults.highlight_modes['magic_text/x-c++src'] = {'reg':[/^%%cpp/]};\n",
       "    console.log(\"JupyROOT - %%cpp magic configured\");\n",
       "  }\n",
       ");\n"
      ]
     },
     "metadata": {},
     "output_type": "display_data"
    },
    {
     "name": "stdout",
     "output_type": "stream",
     "text": [
      "Welcome to JupyROOT 6.08/06\n",
      "{'_SET_mcprocessBranch': '\"mcprocess\"', '_SET_nRndRepSubset': 0, '_SET_alwaysSaveTheseEvents': '\"229079\"', '_SET_uniquenessTracking': '\"\"', '_SET_kDim': 600, '_SET_emailWhenFinished': '\"lng1492@gmail.com\"', '_SET_fitLocationBase': '\"var1Vsvar2Fit_toMain\"', '_SET_saveBShistsAlso': 0, '_SET_standardizationType': '\"range\"', '_SET_runTag': '\"\"', '_SET_verbose': 1, '_SET_nProcess': 26, '_SET_numberEventsToSavePerProcess': 10, '_SET_sbWeight': '\"weightBS\"', '_SET_nBS': 0, '_SET_runBatch': 0, '_SET_weightingScheme': '\"as\"', '_SET_nentries': -1, '_SET_saveBranchOfNeighbors': 1, '_SET_seedShift': 1341, '_SET_redistributeBkgSigFits': 0, '_SET_doKRandomNeighbors': 0, '_SET_varStringBase': '\"cosTheta_eta_gj;phi_eta_gj;cosTheta_X_cm;nn0;nn1;Mpi0g1;Mpi0g2\"', '_SET_saveMemUsage': 0, '_SET_accWeight': '\"AccWeight\"', '_SET_discrimVars': '\"Mpi0;Meta\"'}\n"
     ]
    }
   ],
   "source": [
    "import ROOT\n",
    "import matplotlib.pyplot as plt\n",
    "import seaborn as sns\n",
    "import numpy as np\n",
    "from loadCfg import loadCfg\n",
    "import pandas as pd\n",
    "import matplotlib as mpl\n",
    "from matplotlib import colors\n",
    "import root_pandas as rp\n",
    "pd.set_option('mode.chained_assignment',None)\n",
    "\n",
    "\n",
    "plt.style.use('ggplot')\n",
    "%matplotlib inline"
   ]
  },
  {
   "cell_type": "code",
   "execution_count": 2,
   "metadata": {},
   "outputs": [],
   "source": [
    "configDict=loadCfg()\n",
    "nentries=configDict[\"_SET_nentries\"]\n",
    "kDim=configDict[\"_SET_kDim\"]"
   ]
  },
  {
   "cell_type": "markdown",
   "metadata": {},
   "source": [
    "## Quickly checking Mpi0eta's a0/a2 speparation with and without accidental"
   ]
  },
  {
   "cell_type": "code",
   "execution_count": 5,
   "metadata": {},
   "outputs": [],
   "source": [
    "# cols=[\"Mpi0g1\",\"Mpi0eta\",\"AccWeight\",\"cosTheta_eta_gj\",\"Mpi0\",\"Meta\",\"chiSq\"]\n",
    "# data=rp.read_root(\"/d/grid15/ln16/pi0eta/092419/selected2017_2018/degALL_data_2017_treeFlat_DSelector.root\",\n",
    "#                   \"degALL_data_2017_tree_flat\",\n",
    "#                   columns=cols)\n",
    "# fig,ax=plt.subplots(1,1,figsize=(16,8))\n",
    "# binedges=np.histogram(data.Mpi0eta,bins=150)[1]\n",
    "# data.Mpi0eta.hist(bins=binedges,alpha=0.7)\n",
    "# data.Mpi0eta.hist(bins=binedges,weights=data.AccWeight,alpha=0.7)"
   ]
  },
  {
   "cell_type": "markdown",
   "metadata": {},
   "source": [
    "## Look at the reconstructed vs input signal yields to determine biases"
   ]
  },
  {
   "cell_type": "code",
   "execution_count": null,
   "metadata": {},
   "outputs": [],
   "source": [
    "fig,axes=plt.subplots(2,2,figsize=(16,12))\n",
    "axes=axes.flatten()\n",
    "\n",
    "log=pd.read_csv(\"checkGausFeedThrough/logBias_NoBkgPeak.txt\",delimiter=\" \")\n",
    "log[\"DeltaSig\"]=(log.outputTotalSig-log.inputTotalSig)/log.totalEvnts\n",
    "interesting_kDims=[100,500,1000]#log.kDim.unique()\n",
    "cmap = mpl.cm.get_cmap('viridis')\n",
    "colors=[cmap(val) for val in np.linspace(0,1,len(interesting_kDims))]\n",
    "ylims=(-0.01,0.05)\n",
    "for i,kDim in enumerate(interesting_kDims):\n",
    "    log[log.kDim==kDim].sort_values(\"initSigFrac\").plot(kind=\"line\",c=colors[i],\n",
    "        x=\"initSigFrac\",y=\"DeltaSig\",label=\"kDim=\"+str(kDim),ax=axes[0])\n",
    "axes[0].legend(prop={\"size\":16})\n",
    "axes[0].axhline(0,c='black',linestyle='--')\n",
    "axes[0].set_ylabel(\"Percentage of Signal Gained\",size=16)\n",
    "axes[0].set_xlabel(\"Initial Signal Fraction\",size=16)\n",
    "axes[0].set_title(\"Bkg pi0 Peak Frac = 0\",size=22)\n",
    "axes[0].set_ylim(ylims)\n",
    "\n",
    "log=pd.read_csv(\"checkGausFeedThrough/logBias_AllBkgPeak.txt\",delimiter=\" \")\n",
    "log[\"DeltaSig\"]=(log.outputTotalSig-log.inputTotalSig)/log.totalEvnts\n",
    "for i,kDim in enumerate(interesting_kDims):\n",
    "    log[log.kDim==kDim].sort_values(\"initSigFrac\").plot(kind=\"line\",c=colors[i],\n",
    "        x=\"initSigFrac\",y=\"DeltaSig\",label=\"kDim=\"+str(kDim),ax=axes[1])\n",
    "axes[1].legend(prop={\"size\":16})\n",
    "axes[1].axhline(0,c='black',linestyle='--')\n",
    "axes[1].set_ylabel(\"Percentage of Signal Gained\",size=16)\n",
    "axes[1].set_xlabel(\"Initial Signal Fraction\",size=16)\n",
    "axes[1].set_title(\"Bkg pi0 Peak Frac = 1\",size=22)\n",
    "axes[1].set_ylim(ylims)\n",
    "\n",
    "log=pd.read_csv(\"checkGausFeedThrough/logBias_NoBkgPeak_Minos.txt\",delimiter=\" \")\n",
    "log[\"DeltaSig\"]=(log.outputTotalSig-log.inputTotalSig)/log.totalEvnts\n",
    "for i,kDim in enumerate(interesting_kDims):\n",
    "    log[log.kDim==kDim].sort_values(\"initSigFrac\").plot(kind=\"line\",c=colors[i],\n",
    "        x=\"initSigFrac\",y=\"DeltaSig\",label=\"kDim=\"+str(kDim),ax=axes[2])\n",
    "axes[2].legend(prop={\"size\":16})\n",
    "axes[2].axhline(0,c='black',linestyle='--')\n",
    "axes[2].set_ylabel(\"Percentage of Signal Gained\",size=16)\n",
    "axes[2].set_xlabel(\"Initial Signal Fraction\",size=16)\n",
    "axes[2].set_title(\"Bkg pi0 Peak Frac = 1\",size=22)\n",
    "axes[2].set_ylim(ylims)\n",
    "\n",
    "log=pd.read_csv(\"checkGausFeedThrough/logBias_AllBkgPeak_Minos.txt\",delimiter=\" \")\n",
    "log[\"DeltaSig\"]=(log.outputTotalSig-log.inputTotalSig)/log.totalEvnts\n",
    "for i,kDim in enumerate(interesting_kDims):\n",
    "    log[log.kDim==kDim].sort_values(\"initSigFrac\").plot(kind=\"line\",c=colors[i],\n",
    "        x=\"initSigFrac\",y=\"DeltaSig\",label=\"kDim=\"+str(kDim),ax=axes[3])\n",
    "axes[3].legend(prop={\"size\":16})\n",
    "axes[3].axhline(0,c='black',linestyle='--')\n",
    "axes[3].set_ylabel(\"Percentage of Signal Gained\",size=16)\n",
    "axes[3].set_xlabel(\"Initial Signal Fraction\",size=16)\n",
    "axes[3].set_title(\"Bkg pi0 Peak Frac = 1\",size=22)\n",
    "axes[3].set_ylim(ylims)\n",
    "\n",
    "plt.tight_layout()"
   ]
  },
  {
   "cell_type": "markdown",
   "metadata": {},
   "source": [
    "## Any features in NLL and Q-Value?"
   ]
  },
  {
   "cell_type": "code",
   "execution_count": 7,
   "metadata": {
    "scrolled": true
   },
   "outputs": [],
   "source": [
    "# #dataFile=ROOT.TFile.Open(\"results_500k_pi0Bkg_14/diagnosticPlots/postQVal_flatTree.root\")\n",
    "# dataFile=ROOT.TFile.Open(\"logs/postQVal_flatTree.root\")\n",
    "# dataTree=dataFile.degALL_acc_mEllipse_tree_flat\n",
    "\n",
    "# if nentries==-1:\n",
    "#     nentries=dataTree.GetEntries()\n",
    "\n",
    "# qvalues=np.zeros(nentries)\n",
    "# NLLBests=np.zeros(nentries)\n",
    "# NLLWorsts=np.zeros(nentries)\n",
    "# worst_qvalues=np.zeros(nentries)\n",
    "# eff_nentrieses=np.zeros(nentries)\n",
    "# Mpi0g1s=np.zeros(nentries)\n",
    "# Mpi0etas=np.zeros(nentries)\n",
    "# Mpi0s=np.zeros(nentries)\n",
    "# Metas=np.zeros(nentries)\n",
    "# AccWeights=np.zeros(nentries)\n",
    "# mcprocesses=np.zeros(nentries)\n",
    "# weightBSs=np.zeros(nentries)\n",
    "# cosTheta_eta_gjs=np.zeros(nentries)\n",
    "# chiSqs=np.zeros(nentries)\n",
    "# nn0s=np.zeros(nentries)\n",
    "# nn1s=np.zeros(nentries)\n",
    "# for ientry in range(nentries):\n",
    "#     if ientry%1000==0:\n",
    "#         print(\"loading event: \"+str(ientry))\n",
    "#     dataTree.GetEntry(ientry)\n",
    "#     qvalues[ientry]=dataTree.qvalue\n",
    "#     NLLBests[ientry]=dataTree.qvalue_NLLBest\n",
    "#     NLLWorsts[ientry]=dataTree.qvalue_NLLWorst\n",
    "#     worst_qvalues[ientry]=dataTree.worst_qvalue\n",
    "#     eff_nentrieses[ientry]=dataTree.eff_nentries\n",
    "#     Mpi0g1s[ientry]=dataTree.Mpi0g1\n",
    "#     Mpi0s[ientry]=dataTree.Mpi0\n",
    "#     Metas[ientry]=dataTree.Meta\n",
    "#     Mpi0etas[ientry]=dataTree.Mpi0eta\n",
    "#     AccWeights[ientry]=dataTree.AccWeight\n",
    "#     mcprocesses[ientry]=dataTree.mcprocess\n",
    "#     weightBSs[ientry]=dataTree.weightBS\n",
    "#     cosTheta_eta_gjs[ientry]=dataTree.cosTheta_eta_gj\n",
    "#     chiSqs[ientry]=dataTree.chiSq\n",
    "#     nn0s[ientry]=dataTree.nn0\n",
    "#     nn1s[ientry]=dataTree.nn1\n",
    "# data=pd.DataFrame([qvalues,NLLBests,NLLWorsts,worst_qvalues,eff_nentrieses,Mpi0g1s,Mpi0etas,\n",
    "#                   AccWeights,mcprocesses,weightBSs,cosTheta_eta_gjs,Mpi0s,Metas,\n",
    "#                   chiSqs,nn0s,nn1s]).T\n",
    "# data.columns=[\"qvalues\",\"NLLBests\",\"NLLWorsts\",\"worst_qvalues\",\"eff_nentrieses\",\"Mpi0g1s\",\"Mpi0etas\",\n",
    "#              \"AccWeight\",\"mcprocess\",\"weightBS\",\"cosTheta_eta_gj\",\"Mpi0\",\"Meta\",\"chiSq\",\"nn0\",\"nn1\"]"
   ]
  },
  {
   "cell_type": "code",
   "execution_count": 3,
   "metadata": {},
   "outputs": [
    {
     "name": "stderr",
     "output_type": "stream",
     "text": [
      "Warning in <TClass::Init>: no dictionary for class ROOT::TIOFeatures is available\n"
     ]
    }
   ],
   "source": [
    "cols=[\"qvalue\",\"NLLBest\",\"NLLWorst\",\"worst_qvalue\",\"eff_nentries\",\"Mpi0g1\",\"Mpi0eta\",\n",
    "             \"AccWeight\",\"mcprocess\",\"weightBS\",\"cosTheta_eta_gj\",\"Mpi0\",\"Meta\",\"chiSq\",\"nn0\",\"nn1\"]\n",
    "pis=[\"px\",\"py\",\"pz\",\"e\"]\n",
    "for gi in range(1,5):\n",
    "    for pi in pis:\n",
    "        cols=cols+[\"g\"+str(gi)+\"_p4_kin_\"+pi]\n",
    "data=rp.read_root(\"logs/postQVal_flatTree.root\",\"degALL_acc_mEllipse_tree_flat\",columns=cols)"
   ]
  },
  {
   "cell_type": "code",
   "execution_count": 50,
   "metadata": {},
   "outputs": [],
   "source": [
    "def calculateMass(df,i,j):\n",
    "    de=df[\"g\"+str(i)+\"_p4_kin_e\"]+df[\"g\"+str(j)+\"_p4_kin_e\"]\n",
    "    dpx=df[\"g\"+str(i)+\"_p4_kin_px\"]+df[\"g\"+str(j)+\"_p4_kin_px\"]\n",
    "    dpy=df[\"g\"+str(i)+\"_p4_kin_py\"]+df[\"g\"+str(j)+\"_p4_kin_py\"]\n",
    "    dpz=df[\"g\"+str(i)+\"_p4_kin_pz\"]+df[\"g\"+str(j)+\"_p4_kin_pz\"]\n",
    "    return np.sqrt(de**2-(dpx**2+dpy**2+dpz**2))"
   ]
  },
  {
   "cell_type": "code",
   "execution_count": 73,
   "metadata": {
    "scrolled": false
   },
   "outputs": [
    {
     "data": {
      "image/png": "[encoded data removed]",
      "text/plain": [
       "<Figure size 1152x720 with 4 Axes>"
      ]
     },
     "metadata": {
      "needs_background": "light"
     },
     "output_type": "display_data"
    }
   ],
   "source": [
    "fig,ax=plt.subplots(2,2,figsize=(16,10))\n",
    "ax=ax.flatten()\n",
    "ax[0].set_xlabel(\"M(g1g2)\",size=18)\n",
    "ax[1].set_xlabel(\"M(g3g4)\",size=18)\n",
    "ax[2].set_xlabel(\"M(g1g3)\",size=18)\n",
    "ax[3].set_xlabel(\"M(g2g4)\",size=18)\n",
    "df=data\n",
    "calculateMass(df,1,2).hist(bins=100,ax=ax[0],weights=df.AccWeight)\n",
    "calculateMass(df,3,4).hist(bins=100,ax=ax[1],weights=df.AccWeight)\n",
    "calculateMass(df,1,3).hist(bins=100,ax=ax[2],weights=df.AccWeight)\n",
    "calculateMass(df,2,4).hist(bins=100,ax=ax[3],weights=df.AccWeight)\n",
    "calculateMass(df,1,2).hist(bins=100,ax=ax[0],weights=df.AccWeight*df.qvalue)\n",
    "calculateMass(df,3,4).hist(bins=100,ax=ax[1],weights=df.AccWeight*df.qvalue)\n",
    "calculateMass(df,1,3).hist(bins=100,ax=ax[2],weights=df.AccWeight*df.qvalue)\n",
    "calculateMass(df,2,4).hist(bins=100,ax=ax[3],weights=df.AccWeight*df.qvalue)\n",
    "plt.tight_layout()"
   ]
  },
  {
   "cell_type": "code",
   "execution_count": 12,
   "metadata": {},
   "outputs": [
    {
     "name": "stderr",
     "output_type": "stream",
     "text": [
      "/d/home/ln16/.local/lib/python2.7/site-packages/ipykernel_launcher.py:13: UserWarning: Boolean Series key will be reindexed to match DataFrame index.\n",
      "  del sys.path[0]\n",
      "/d/home/ln16/.local/lib/python2.7/site-packages/ipykernel_launcher.py:14: UserWarning: Boolean Series key will be reindexed to match DataFrame index.\n",
      "  \n"
     ]
    },
    {
     "data": {
      "image/png": "[encoded data removed]",
      "text/plain": [
       "<Figure size 1152x1008 with 4 Axes>"
      ]
     },
     "metadata": {
      "needs_background": "light"
     },
     "output_type": "display_data"
    }
   ],
   "source": [
    "fig,ax=plt.subplots(2,2,figsize=(16,14))\n",
    "ax=ax.flatten()\n",
    "\n",
    "binedges1=np.histogram(data.Mpi0eta,bins=100)[1]\n",
    "binedges2=np.histogram(data.Mpi0g1,bins=100)[1]\n",
    "\n",
    "df1=data[(data.mcprocess==0)|(data.mcprocess==1)]\n",
    "df2=data[data.mcprocess==2]\n",
    "_=ax[0].hist(df1.Mpi0g1,weights=df1.AccWeight,bins=binedges2)\n",
    "_=ax[1].hist(df2.Mpi0g1,weights=df2.AccWeight,bins=binedges2)\n",
    "_=ax[2].hist(df1.Mpi0eta,weights=df1.AccWeight,bins=binedges2)\n",
    "_=ax[3].hist(df2.Mpi0eta,weights=df2.AccWeight,bins=binedges2)\n",
    "df1=df1[data.nn1<0.9]\n",
    "df2=df2[data.nn1<0.9]\n",
    "_=ax[0].hist(df1.Mpi0g1,weights=df1.AccWeight,bins=binedges2)\n",
    "_=ax[1].hist(df2.Mpi0g1,weights=df2.AccWeight,bins=binedges2)\n",
    "_=ax[2].hist(df1.Mpi0eta,weights=df1.AccWeight,bins=binedges2)\n",
    "_=ax[3].hist(df2.Mpi0eta,weights=df2.AccWeight,bins=binedges2)"
   ]
  },
  {
   "cell_type": "markdown",
   "metadata": {},
   "source": [
    "## Quickly check what Mpi0g vs Mpi0 looks like"
   ]
  },
  {
   "cell_type": "code",
   "execution_count": 4,
   "metadata": {},
   "outputs": [
    {
     "ename": "AttributeError",
     "evalue": "'DataFrame' object has no attribute 'Mpi0g1s'",
     "output_type": "error",
     "traceback": [
      "\u001b[0;31m\u001b[0m",
      "\u001b[0;31mAttributeError\u001b[0mTraceback (most recent call last)",
      "\u001b[0;32m<ipython-input-4-1d9bd89a5714>\u001b[0m in \u001b[0;36m<module>\u001b[0;34m()\u001b[0m\n\u001b[1;32m      1\u001b[0m \u001b[0mfig\u001b[0m\u001b[0;34m,\u001b[0m\u001b[0max\u001b[0m\u001b[0;34m=\u001b[0m\u001b[0mplt\u001b[0m\u001b[0;34m.\u001b[0m\u001b[0msubplots\u001b[0m\u001b[0;34m(\u001b[0m\u001b[0;36m1\u001b[0m\u001b[0;34m,\u001b[0m\u001b[0;36m2\u001b[0m\u001b[0;34m,\u001b[0m\u001b[0mfigsize\u001b[0m\u001b[0;34m=\u001b[0m\u001b[0;34m(\u001b[0m\u001b[0;36m16\u001b[0m\u001b[0;34m,\u001b[0m\u001b[0;36m6\u001b[0m\u001b[0;34m)\u001b[0m\u001b[0;34m)\u001b[0m\u001b[0;34m\u001b[0m\u001b[0m\n\u001b[0;32m----> 2\u001b[0;31m \u001b[0mdf\u001b[0m\u001b[0;34m=\u001b[0m\u001b[0mdata\u001b[0m\u001b[0;34m[\u001b[0m\u001b[0;34m(\u001b[0m\u001b[0mdata\u001b[0m\u001b[0;34m.\u001b[0m\u001b[0mMpi0g1s\u001b[0m\u001b[0;34m<\u001b[0m\u001b[0;36m1.3\u001b[0m\u001b[0;34m)\u001b[0m\u001b[0;34m&\u001b[0m\u001b[0;34m(\u001b[0m\u001b[0mdata\u001b[0m\u001b[0;34m.\u001b[0m\u001b[0mmcprocess\u001b[0m\u001b[0;34m==\u001b[0m\u001b[0;36m2\u001b[0m\u001b[0;34m)\u001b[0m\u001b[0;34m]\u001b[0m\u001b[0;34m\u001b[0m\u001b[0m\n\u001b[0m\u001b[1;32m      3\u001b[0m \u001b[0max\u001b[0m\u001b[0;34m[\u001b[0m\u001b[0;36m0\u001b[0m\u001b[0;34m]\u001b[0m\u001b[0;34m.\u001b[0m\u001b[0mhist2d\u001b[0m\u001b[0;34m(\u001b[0m\u001b[0mdf\u001b[0m\u001b[0;34m.\u001b[0m\u001b[0mMpi0\u001b[0m\u001b[0;34m,\u001b[0m\u001b[0mdf\u001b[0m\u001b[0;34m.\u001b[0m\u001b[0mMpi0g1s\u001b[0m\u001b[0;34m,\u001b[0m\u001b[0mbins\u001b[0m\u001b[0;34m=\u001b[0m\u001b[0;34m(\u001b[0m\u001b[0;36m100\u001b[0m\u001b[0;34m,\u001b[0m\u001b[0;36m100\u001b[0m\u001b[0;34m)\u001b[0m\u001b[0;34m)\u001b[0m\u001b[0;31m#,norm=mpl.colors.LogNorm())\u001b[0m\u001b[0;34m\u001b[0m\u001b[0m\n\u001b[1;32m      4\u001b[0m \u001b[0max\u001b[0m\u001b[0;34m[\u001b[0m\u001b[0;36m0\u001b[0m\u001b[0;34m]\u001b[0m\u001b[0;34m.\u001b[0m\u001b[0mgrid\u001b[0m\u001b[0;34m(\u001b[0m\u001b[0mFalse\u001b[0m\u001b[0;34m)\u001b[0m\u001b[0;34m\u001b[0m\u001b[0m\n\u001b[1;32m      5\u001b[0m \u001b[0max\u001b[0m\u001b[0;34m[\u001b[0m\u001b[0;36m0\u001b[0m\u001b[0;34m]\u001b[0m\u001b[0;34m.\u001b[0m\u001b[0mset_xlabel\u001b[0m\u001b[0;34m(\u001b[0m\u001b[0;34m\"Mpi0\"\u001b[0m\u001b[0;34m,\u001b[0m\u001b[0msize\u001b[0m\u001b[0;34m=\u001b[0m\u001b[0;36m20\u001b[0m\u001b[0;34m)\u001b[0m\u001b[0;34m\u001b[0m\u001b[0m\n",
      "\u001b[0;32m/d/home/ln16/.local/lib/python2.7/site-packages/pandas/core/generic.pyc\u001b[0m in \u001b[0;36m__getattr__\u001b[0;34m(self, name)\u001b[0m\n\u001b[1;32m   5065\u001b[0m             \u001b[0;32mif\u001b[0m \u001b[0mself\u001b[0m\u001b[0;34m.\u001b[0m\u001b[0m_info_axis\u001b[0m\u001b[0;34m.\u001b[0m\u001b[0m_can_hold_identifiers_and_holds_name\u001b[0m\u001b[0;34m(\u001b[0m\u001b[0mname\u001b[0m\u001b[0;34m)\u001b[0m\u001b[0;34m:\u001b[0m\u001b[0;34m\u001b[0m\u001b[0m\n\u001b[1;32m   5066\u001b[0m                 \u001b[0;32mreturn\u001b[0m \u001b[0mself\u001b[0m\u001b[0;34m[\u001b[0m\u001b[0mname\u001b[0m\u001b[0;34m]\u001b[0m\u001b[0;34m\u001b[0m\u001b[0m\n\u001b[0;32m-> 5067\u001b[0;31m             \u001b[0;32mreturn\u001b[0m \u001b[0mobject\u001b[0m\u001b[0;34m.\u001b[0m\u001b[0m__getattribute__\u001b[0m\u001b[0;34m(\u001b[0m\u001b[0mself\u001b[0m\u001b[0;34m,\u001b[0m \u001b[0mname\u001b[0m\u001b[0;34m)\u001b[0m\u001b[0;34m\u001b[0m\u001b[0m\n\u001b[0m\u001b[1;32m   5068\u001b[0m \u001b[0;34m\u001b[0m\u001b[0m\n\u001b[1;32m   5069\u001b[0m     \u001b[0;32mdef\u001b[0m \u001b[0m__setattr__\u001b[0m\u001b[0;34m(\u001b[0m\u001b[0mself\u001b[0m\u001b[0;34m,\u001b[0m \u001b[0mname\u001b[0m\u001b[0;34m,\u001b[0m \u001b[0mvalue\u001b[0m\u001b[0;34m)\u001b[0m\u001b[0;34m:\u001b[0m\u001b[0;34m\u001b[0m\u001b[0m\n",
      "\u001b[0;31mAttributeError\u001b[0m: 'DataFrame' object has no attribute 'Mpi0g1s'"
     ]
    },
    {
     "data": {
      "image/png": "[encoded data removed]",
      "text/plain": [
       "<Figure size 1152x432 with 2 Axes>"
      ]
     },
     "metadata": {
      "needs_background": "light"
     },
     "output_type": "display_data"
    }
   ],
   "source": [
    "fig,ax=plt.subplots(1,2,figsize=(16,6))\n",
    "df=data[(data.Mpi0g1s<1.3)&(data.mcprocess==2)]\n",
    "ax[0].hist2d(df.Mpi0,df.Mpi0g1s,bins=(100,100))#,norm=mpl.colors.LogNorm())\n",
    "ax[0].grid(False)\n",
    "ax[0].set_xlabel(\"Mpi0\",size=20)\n",
    "ax[0].set_ylabel(\"Mpi0g\",size=20)\n",
    "ax[0].set_title(\"b1 MC\",size=20)\n",
    "df=data[(data.Mpi0g1s<1.3)&(data.mcprocess.isin([0,1]))]\n",
    "ax[1].hist2d(df.Mpi0,df.Mpi0g1s,bins=(100,100))#,norm=mpl.colors.LogNorm())\n",
    "ax[1].grid(False)\n",
    "ax[1].set_xlabel(\"Mpi0\",size=20)\n",
    "ax[1].set_ylabel(\"Mpi0g\",size=20)\n",
    "ax[1].set_title(\"a0/a2 MC\",size=20)"
   ]
  },
  {
   "cell_type": "markdown",
   "metadata": {},
   "source": [
    "## Measuring how much omegas are removed"
   ]
  },
  {
   "cell_type": "code",
   "execution_count": null,
   "metadata": {},
   "outputs": [],
   "source": [
    "def gaussian(x, mean, amplitude, standard_deviation):\n",
    "    return amplitude * np.exp( - ((x - mean) / standard_deviation) ** 2)\n",
    "def linear(x,m,b):\n",
    "    return m*x+b\n",
    "def fitFunc(x, mean, amplitude, standard_deviation, m, b):\n",
    "    return gaussian(x,mean,amplitude,standard_deviation)+linear(x,m,b)\n",
    "\n",
    "from scipy.optimize import curve_fit\n",
    "import scipy \n",
    "nBins=200\n",
    "fig,axes= plt.subplots(2,1,figsize=(16,12))\n",
    "\n",
    "######################\n",
    "# Get plots for the dataset with q-values applied\n",
    "######################\n",
    "counts,edges=np.histogram(data.Mpi0g1s,bins=nBins,weights=data.AccWeight*data.qvalues)\n",
    "centers=edges[1:]-(edges[1:]-edges[:-1])/2\n",
    "binWidth=edges[1]-edges[0]\n",
    "fitLocs = (centers>0.7)*(centers<0.9)\n",
    "xLocs = centers[fitLocs]\n",
    "yLocs = counts[fitLocs]\n",
    "\n",
    "popt, _ = curve_fit(fitFunc, xLocs, yLocs, p0=[0.8, 1000, 0.05, 5000, 1000])\n",
    "\n",
    "dHist_Mpi0g1=axes[0].hist(data.Mpi0g1s,bins=nBins,weights=data.AccWeight*data.qvalues,\n",
    "                      edgecolor='steelblue',facecolor='steelblue')\n",
    "axes[0].plot(xLocs, fitFunc(xLocs, *popt), label='fit', c='red')\n",
    "axes[0].plot(xLocs, linear(xLocs,*popt[3:]), label='bkg', c='orange')\n",
    "axes[0].plot(xLocs, gaussian(xLocs,*popt[:-2]), label='bkg', c='purple')\n",
    "\n",
    "yheight=170\n",
    "axes[0].axhline(yheight,linestyle=\"--\")\n",
    "axes[0].axvline(xLocs[-1],linestyle=\"--\")\n",
    "axes[0].axvline(xLocs[0],linestyle=\"--\")\n",
    "areaRect=yheight*(xLocs[-1]-xLocs[0])\n",
    "intGaus=scipy.integrate.simps(gaussian(xLocs,*popt[:-2]),xLocs)\n",
    "intGaus/=binWidth\n",
    "axes[0].set_title(\"Integral of Gaus: {0}\".format(intGaus),size=18)\n",
    "\n",
    "\n",
    "######################\n",
    "# Get plots for the dataset without q-values applied\n",
    "######################\n",
    "counts,edges=np.histogram(data.Mpi0g1s,bins=nBins,weights=data.AccWeight)\n",
    "centers=edges[1:]-(edges[1:]-edges[:-1])/2\n",
    "fitLocs = (centers>0.7)*(centers<0.9)\n",
    "xLocs = centers[fitLocs]\n",
    "yLocs = counts[fitLocs]\n",
    "\n",
    "popt, _ = curve_fit(fitFunc, xLocs, yLocs, p0=[0.8, 1000, 0.05, 5000, 1000])\n",
    "\n",
    "dHist_Mpi0g1=axes[1].hist(data.Mpi0g1s,bins=nBins,weights=data.AccWeight,\n",
    "                      edgecolor='steelblue',facecolor='steelblue')\n",
    "axes[1].plot(xLocs, fitFunc(xLocs, *popt), label='fit', c='red')\n",
    "axes[1].plot(xLocs, linear(xLocs,*popt[3:]), label='bkg', c='orange')\n",
    "axes[1].plot(xLocs, gaussian(xLocs,*popt[:-2]), label='bkg', c='purple')\n",
    "\n",
    "yheight=2400\n",
    "axes[1].axhline(yheight,linestyle=\"--\")\n",
    "axes[1].axvline(xLocs[-1],linestyle=\"--\")\n",
    "axes[1].axvline(xLocs[0],linestyle=\"--\")\n",
    "areaRect=yheight*(xLocs[-1]-xLocs[0])\n",
    "intGaus=scipy.integrate.simps(gaussian(xLocs,*popt[:-2]),xLocs)\n",
    "intGaus/=binWidth\n",
    "axes[1].set_title(\"Integral of Gaus: {0}\".format(intGaus),size=18)"
   ]
  },
  {
   "cell_type": "code",
   "execution_count": null,
   "metadata": {},
   "outputs": [],
   "source": [
    "fig,axes=plt.subplots(2,1,figsize=(14,12))\n",
    "sns.set()\n",
    "\n",
    "def colorAlpha(color,alpha):\n",
    "    color=colors.to_rgba(color)\n",
    "    color=list(color)\n",
    "    color[3]=alpha\n",
    "    return color\n",
    "\n",
    "varsToPlot=[\"Mpi0g1s\",\"Mpi0etas\"]\n",
    "\n",
    "for i, varToPlot in enumerate(varsToPlot):\n",
    "    binedges=np.histogram(data[varToPlot],bins=150)[1]\n",
    "    dataSig=data[(data.mcprocess==0)|(data.mcprocess==1)]\n",
    "    _ = axes[i].hist(dataSig[varToPlot],bins=binedges,weights=dataSig.AccWeight*dataSig.weightBS,\n",
    "                          edgecolor=colorAlpha('orange',0),facecolor=colorAlpha('orange',0.4),label=\"Signal AS*BS\")\n",
    "\n",
    "    _ = axes[i].hist(data[varToPlot],bins=binedges,weights=data.AccWeight*data.qvalues,\n",
    "                          edgecolor=colorAlpha('steelblue',0),facecolor=colorAlpha('steelblue',0.4),label=\"AS*Q\")\n",
    "\n",
    "    _ = axes[i].hist(data[varToPlot],bins=binedges,weights=data.AccWeight*data.weightBS,\n",
    "                          edgecolor=colorAlpha('gray',0),facecolor=colorAlpha('gray',0.4),label=\"AS*BS\")\n",
    "    axes[i].legend(prop={\"size\":20})\n",
    "    axes[i].set_xlabel(varToPlot,size=14)\n",
    "\n"
   ]
  },
  {
   "cell_type": "markdown",
   "metadata": {},
   "source": [
    "## What does this mean for the a0 and a2"
   ]
  },
  {
   "cell_type": "code",
   "execution_count": null,
   "metadata": {},
   "outputs": [],
   "source": [
    "fig,axes=plt.subplots(3,1,figsize=(16,8))\n",
    "axes=axes.flatten()\n",
    "\n",
    "counts, xedges, yedges = np.histogram2d(x=data.Mpi0etas,y=data.cosTheta_eta_gj,bins=(50,20))\n",
    "def plotGJ(df,ax,lab,xedges,yedges,includeQ):\n",
    "    if includeQ:\n",
    "        h=ax.hist2d(x=df.Mpi0etas,y=df.cosTheta_eta_gj,weights=df.AccWeight*df.qvalues,bins=(xedges,yedges))\n",
    "    else:\n",
    "        h=ax.hist2d(x=df.Mpi0etas,y=df.cosTheta_eta_gj,weights=df.AccWeight,bins=(xedges,yedges))\n",
    "    ax.grid(False)\n",
    "    ax.set_title(lab)\n",
    "    ax.set_ylabel(\"CosTheta_GJ eta\")\n",
    "    ax.set_xlabel(\"Mpi0eta\")\n",
    "    plt.colorbar(h[3],ax=ax)\n",
    "plotGJ(data[data.mcprocess==0],axes[0],\"a0\",xedges,yedges,True)\n",
    "plotGJ(data[data.mcprocess==1],axes[1],\"a2\",xedges,yedges,True)\n",
    "plotGJ(data[data.mcprocess==2],axes[2],\"b1\",xedges,yedges,True)\n",
    "plt.tight_layout()"
   ]
  },
  {
   "cell_type": "markdown",
   "metadata": {},
   "source": [
    "## Was going to check distribution of Q-values/Meta/Mpi0 by doing a sideband subtraction of Mpi0g1 but I dont think I learn anything"
   ]
  },
  {
   "cell_type": "code",
   "execution_count": null,
   "metadata": {},
   "outputs": [],
   "source": [
    "fig,axes=plt.subplots(2,1,figsize=(16,10))\n",
    "axes=axes.flatten()\n",
    "_,binedges=np.histogram(data.Mpi0g1s,bins=300)\n",
    "dHist_Mpi0g1=axes[0].hist(data.Mpi0g1s,bins=binedges,weights=data.AccWeight*data.qvalues,\n",
    "                      edgecolor='steelblue',facecolor='steelblue')\n",
    "\n",
    "center=0.78\n",
    "sbLL=0.67\n",
    "sbLM=0.71\n",
    "sbLR=0.72\n",
    "sbRL=0.84\n",
    "sbRM=0.85\n",
    "sbRR=0.89\n",
    "sbC=(data.Mpi0g1s>sbLR)*(data.Mpi0g1s<sbRL)\n",
    "sbR=(data.Mpi0g1s<sbRR)*(data.Mpi0g1s>sbRM)\n",
    "sbL=(data.Mpi0g1s<sbLM)*(data.Mpi0g1s>sbLL)\n",
    "\n",
    "\n",
    "dHist_Mpi0g1=axes[0].hist(data[sbC].Mpi0g1s,bins=binedges,weights=data[sbC].AccWeight*data[sbC].qvalues,\n",
    "                      edgecolor='indianred',facecolor='indianred')\n",
    "dHist_Mpi0g1=axes[0].hist(data[sbR].Mpi0g1s,bins=binedges,weights=data[sbR].AccWeight*data[sbR].qvalues,\n",
    "                      edgecolor='green',facecolor='green')\n",
    "dHist_Mpi0g1=axes[0].hist(data[sbL].Mpi0g1s,bins=binedges,weights=data[sbL].AccWeight*data[sbL].qvalues,\n",
    "                      edgecolor='green',facecolor='green')\n",
    "axes[0].set_xlabel(\"Mpi0g1\",size=20)\n",
    "\n",
    "\n",
    "\n",
    "sbWeight=((sbRL-center)+(center-sbLR))/((sbRR-sbRM)+(sbLM-sbLL))\n",
    "print(\"sbWeight: {0}\".format(sbWeight))\n",
    "\n",
    "# axes[0].axvline(center,c='black',linestyle='--')\n",
    "# axes[0].axvline(sbLL,c='black',linestyle='--')\n",
    "# axes[0].axvline(sbLM,c='black',linestyle='--')\n",
    "# axes[0].axvline(sbLR,c='black',linestyle='--')\n",
    "# axes[0].axvline(sbRL,c='black',linestyle='--')\n",
    "# axes[0].axvline(sbRM,c='black',linestyle='--')\n",
    "# axes[0].axvline(sbRR,c='black',linestyle='--')\n",
    "\n",
    "# ----------------------------------------\n",
    "df=data[sbC | sbR | sbL]\n",
    "df['omegaSB']=0\n",
    "df.omegaSB.loc[sbR]=-sbWeight\n",
    "df.omegaSB.loc[sbL]=-sbWeight\n",
    "df.omegaSB.loc[sbC]=1\n",
    "\n",
    "counts,binedges=np.histogram(data[sbC].qvalues,bins=150)\n",
    "data[sbC].qvalues.hist(bins=binedges,weights=data[sbC].AccWeight*data[sbC].qvalues,\n",
    "                       ax=axes[1],density=True,label=\"sbC\",alpha=0.5)\n",
    "data[sbL|sbR].qvalues.hist(bins=binedges,weights=data[sbL|sbR].AccWeight*data[sbL|sbR].qvalues,\n",
    "                           ax=axes[1],density=True,label=\"sbL|sbR\",alpha=0.5)\n",
    "axes[1].legend(prop={'size':20})\n",
    "axes[1].set_xlabel(\"(KDE)Q-Value\",size=20)\n",
    "\n",
    "plt.tight_layout()"
   ]
  },
  {
   "cell_type": "markdown",
   "metadata": {},
   "source": [
    "## Looking at GJ vs Mpi0eta in Data"
   ]
  },
  {
   "cell_type": "code",
   "execution_count": null,
   "metadata": {},
   "outputs": [],
   "source": [
    "dataFile_data=ROOT.TFile.Open(\"results_data_pi0Bkg_16/diagnosticPlots/postQVal_flatTree.root\")\n",
    "dataTree_data=dataFile_data.degALL_data_2017_mEllipse_tree_flat\n",
    "\n",
    "if nentries==-1:\n",
    "    nentries=dataTree_data.GetEntries()\n",
    "\n",
    "qvalues_data=np.zeros(nentries)\n",
    "NLLBests_data=np.zeros(nentries)\n",
    "NLLWorsts_data=np.zeros(nentries)\n",
    "worst_qvalues_data=np.zeros(nentries)\n",
    "eff_nentrieses_data=np.zeros(nentries)\n",
    "Mpi0g1s_data=np.zeros(nentries)\n",
    "Mpi0etas_data=np.zeros(nentries)\n",
    "AccWeights_data=np.zeros(nentries)\n",
    "mcprocesses_data=np.zeros(nentries)\n",
    "weightBSs_data=np.zeros(nentries)\n",
    "cosTheta_eta_gjs_data=np.zeros(nentries)\n",
    "for ientry in range(nentries):\n",
    "    dataTree_data.GetEntry(ientry)\n",
    "    qvalues_data[ientry]=dataTree_data.qvalue\n",
    "#     NLLBests[ientry]=dataTree_data.qvalue_NLLBest\n",
    "#     NLLWorsts[ientry]=dataTree_data.qvalue_NLLWorst\n",
    "#     worst_qvalues[ientry]=dataTree_data.worst_qvalue\n",
    "#     eff_nentrieses[ientry]=dataTree_data.eff_nentries\n",
    "#     mcprocesses[ientry]=dataTree_data.mcprocess\n",
    "    Mpi0g1s_data[ientry]=dataTree_data.Mpi0g1\n",
    "    Mpi0etas_data[ientry]=dataTree_data.Mpi0eta\n",
    "    AccWeights_data[ientry]=dataTree_data.AccWeight\n",
    "    weightBSs_data[ientry]=dataTree_data.weightBS\n",
    "    cosTheta_eta_gjs_data[ientry]=dataTree_data.cosTheta_eta_gj\n",
    "    \n",
    "data_data=pd.DataFrame([qvalues_data,NLLBests_data,NLLWorsts_data,worst_qvalues_data,eff_nentrieses_data,\n",
    "                   Mpi0g1s_data,Mpi0etas_data,AccWeights_data,mcprocesses_data,\n",
    "                   weightBSs_data,cosTheta_eta_gjs_data]).T\n",
    "data_data.columns=[\"qvalues\",\"NLLBests\",\"NLLWorsts\",\"worst_qvalues\",\"eff_nentrieses\",\"Mpi0g1s\",\"Mpi0etas\",\n",
    "             \"AccWeight\",\"mcprocess\",\"weightBS\",\"cosTheta_eta_gj\"]\n",
    "data_data[\"deltaNLL\"]=data_data.NLLBests-data_data.NLLWorsts\n",
    "data_data[\"deltaQ\"]=data_data.qvalues-data_data.worst_qvalues"
   ]
  },
  {
   "cell_type": "code",
   "execution_count": null,
   "metadata": {},
   "outputs": [],
   "source": [
    "fig,axes=plt.subplots(2,1,figsize=(16,8))\n",
    "axes=axes.flatten()\n",
    "counts, xedges, yedges = np.histogram2d(x=data_data.Mpi0etas,y=data_data.cosTheta_eta_gj,bins=(75,50))\n",
    "plotGJ(data_data,axes[0],\"Spring 2017 Data -- Accidentals Only\",xedges,yedges,False)\n",
    "plotGJ(data_data,axes[1],\"Spring 2017 Data -- Accidental + Q-Factor\",xedges,yedges,True)\n",
    "axes[0].axvline(0.782,c='r',linestyle=\"--\",alpha=0.6)\n",
    "axes[0].axvline(0.980,c='r',linestyle=\"--\",alpha=0.6)\n",
    "axes[0].axvline(1.320,c='r',linestyle=\"--\",alpha=0.6)\n",
    "axes[1].axvline(0.782,c='r',linestyle=\"--\",alpha=0.6)\n",
    "axes[1].axvline(0.980,c='r',linestyle=\"--\",alpha=0.6)\n",
    "axes[1].axvline(1.320,c='r',linestyle=\"--\",alpha=0.6)\n",
    "plt.tight_layout()"
   ]
  },
  {
   "cell_type": "markdown",
   "metadata": {},
   "source": [
    "## Distribution of Effective # of neighbors"
   ]
  },
  {
   "cell_type": "code",
   "execution_count": null,
   "metadata": {},
   "outputs": [],
   "source": [
    "fig,ax=plt.subplots(1,1,figsize=(8,6))\n",
    "ax.hist(data.eff_nentrieses,bins=50,label=\"Effective # nentries\")\n",
    "nentries_mean=data.eff_nentrieses.mean()\n",
    "ax.axvline(data.eff_nentrieses.mean(),c='r',label=\"mean:\"+str(int(nentries_mean)))\n",
    "ax.legend(prop={\"size\":12})"
   ]
  },
  {
   "cell_type": "code",
   "execution_count": null,
   "metadata": {},
   "outputs": [],
   "source": []
  }
 ],
 "metadata": {
  "kernelspec": {
   "display_name": "Python 2",
   "language": "python",
   "name": "python2"
  },
  "language_info": {
   "codemirror_mode": {
    "name": "ipython",
    "version": 2
   },
   "file_extension": ".py",
   "mimetype": "text/x-python",
   "name": "python",
   "nbconvert_exporter": "python",
   "pygments_lexer": "ipython2",
   "version": "2.7.5"
  },
  "toc": {
   "base_numbering": 1,
   "nav_menu": {},
   "number_sections": true,
   "sideBar": true,
   "skip_h1_title": false,
   "title_cell": "Table of Contents",
   "title_sidebar": "Contents",
   "toc_cell": false,
   "toc_position": {
    "height": "calc(100% - 180px)",
    "left": "10px",
    "top": "150px",
    "width": "165px"
   },
   "toc_section_display": true,
   "toc_window_display": true
  }
 },
 "nbformat": 4,
 "nbformat_minor": 4
}
